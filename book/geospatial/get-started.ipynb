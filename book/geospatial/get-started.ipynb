{
 "cells": [
  {
   "cell_type": "markdown",
   "id": "0",
   "metadata": {},
   "source": [
    "# Introduction to Geospatial Python\n",
    "\n",
    "## Introduction\n",
    "\n",
    "## The Geospatial Python Ecosystem\n",
    "\n",
    "### Foundation Libraries\n",
    "\n",
    "### Data Structures and Analysis\n",
    "\n",
    "### Interactive Visualization\n",
    "\n",
    "### Specialized Analysis\n",
    "\n",
    "### Application Development\n",
    "\n",
    "## Understanding Library Relationships\n",
    "\n",
    "## Setting Up Your Environment\n",
    "\n",
    "### Option 1: Using uv (Recommended for Beginners)\n",
    "\n",
    "```bash\n",
    "# Install uv\n",
    "# macOS and Linux:\n",
    "curl -LsSf https://astral.sh/uv/install.sh | sh\n",
    "\n",
    "# Windows:\n",
    "powershell -ExecutionPolicy ByPass -c \"irm https://astral.sh/uv/install.ps1 | iex\"\n",
    "\n",
    "# Create virtual environment\n",
    "uv venv\n",
    "\n",
    "# Activate environment\n",
    "# macOS and Linux:\n",
    "source .venv/bin/activate\n",
    "\n",
    "# Windows:\n",
    ".venv\\Scripts\\activate\n",
    "\n",
    "# Install geospatial package (includes most libraries covered in this book)\n",
    "uv pip install --find-links https://girder.github.io/large_image_wheels gdal pyproj\n",
    "uv pip install pygis\n",
    "```\n",
    "\n",
    "### Option 2: Using pixi (For Complex Dependencies)\n",
    "\n",
    "```bash\n",
    "# Install pixi\n",
    "# macOS and Linux:\n",
    "curl -fsSL https://pixi.sh/install.sh | bash\n",
    "\n",
    "# Windows:\n",
    "iwr -useb https://pixi.sh/install.ps1 | iex\n",
    "\n",
    "# Initialize project and add dependencies\n",
    "pixi init\n",
    "pixi add pygis jupyterlab\n",
    "pixi run jupyter lab\n",
    "```\n",
    "\n",
    "### Option 3: Using conda/mamba (Traditional Approach)\n",
    "\n",
    "```bash\n",
    "# Create environment\n",
    "conda create -n geo python=3.12\n",
    "conda activate geo\n",
    "\n",
    "# Install from conda-forge\n",
    "conda install -c conda-forge mamba\n",
    "mamba install -c conda-forge pygis\n",
    "```\n",
    "\n",
    "## Verification and First Steps"
   ]
  },
  {
   "cell_type": "code",
   "execution_count": null,
   "id": "1",
   "metadata": {},
   "outputs": [
    {
     "name": "stdout",
     "output_type": "stream",
     "text": [
      "✓ All core libraries imported successfully!\n"
     ]
    }
   ],
   "source": [
    "# Test core geospatial libraries\n",
    "import geopandas as gpd\n",
    "import rasterio\n",
    "import xarray as xr\n",
    "import rioxarray\n",
    "import leafmap\n",
    "import pandas as pd\n",
    "import numpy as np\n",
    "\n",
    "print(\"✓ All core libraries imported successfully!\")\n",
    "# DONE"
   ]
  },
  {
   "cell_type": "markdown",
   "id": "2",
   "metadata": {},
   "source": [
    "### Create Your First Interactive Map"
   ]
  },
  {
   "cell_type": "code",
   "execution_count": 55,
   "id": "3",
   "metadata": {},
   "outputs": [
    {
     "data": {
      "application/vnd.jupyter.widget-view+json": {
       "model_id": "39b1606eafef40a68a9317d22b40c1c6",
       "version_major": 2,
       "version_minor": 0
      },
      "text/plain": [
       "Map(center=[40.24, -111.64941], controls=(ZoomControl(options=['position', 'zoom_in_text', 'zoom_in_title', 'z…"
      ]
     },
     "execution_count": 55,
     "metadata": {},
     "output_type": "execute_result"
    }
   ],
   "source": [
    "# Create an interactive map using Leafmap\n",
    "m = leafmap.Map(center=[40.24000, -111.64941], zoom=18, height=\"500px\")\n",
    "\n",
    "# Add different basemap options\n",
    "m.add_basemap(\"USGS.Imagery\")\n",
    "m.add_basemap(\"OpenTopoMap\")\n",
    "\n",
    "\n",
    "# Display the map\n",
    "m\n",
    "\n",
    "# DONE"
   ]
  },
  {
   "cell_type": "markdown",
   "id": "4",
   "metadata": {},
   "source": [
    "## Learning Path and Chapter Overview\n",
    "\n",
    "### Foundation (Start Here)\n",
    "\n",
    "### Visualization and Interaction\n",
    "\n",
    "### Specialized Analysis\n",
    "\n",
    "### Foundation and Integration\n",
    "\n",
    "### Application Development\n",
    "\n",
    "## Key Concepts to Remember\n",
    "\n",
    "## Getting Help and Resources\n",
    "\n",
    "## Next Steps\n",
    "\n",
    "## Exercises"
   ]
  },
  {
   "cell_type": "markdown",
   "id": "24a3b0df",
   "metadata": {},
   "source": [
    "1. I set up the environment properly\n",
    "2. I created my first map above and it is centered on Provo (or pretty close...). What is the coordinate system?\n",
    "3. I read through many of the libraries\n",
    "4. I feel like I need a little more familiarity with many of the libraries to understand what I would need to do. For the project modeling flash flooding in southern Utah I would likely use Geoprocessing with WHiteboxTools for their hydrological modeling and maybe Apache Sedona."
   ]
  }
 ],
 "metadata": {
  "jupytext": {
   "default_lexer": "ipython3"
  },
  "kernelspec": {
   "display_name": "base",
   "language": "python",
   "name": "python3"
  },
  "language_info": {
   "codemirror_mode": {
    "name": "ipython",
    "version": 3
   },
   "file_extension": ".py",
   "mimetype": "text/x-python",
   "name": "python",
   "nbconvert_exporter": "python",
   "pygments_lexer": "ipython3",
   "version": "3.12.11"
  }
 },
 "nbformat": 4,
 "nbformat_minor": 5
}
